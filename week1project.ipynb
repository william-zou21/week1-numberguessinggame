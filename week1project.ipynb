{
 "cells": [
  {
   "cell_type": "markdown",
   "metadata": {},
   "source": [
    "Week One Project is going to be a guessing game"
   ]
  },
  {
   "cell_type": "markdown",
   "metadata": {},
   "source": [
    "1. Build a Number guessing game, in which the user selects a range. \n",
    "2. Let’s say User selected a range, i.e., from A to B, where A and B belong to Integer.\n",
    "3. Some random integer will be selected by the system and the user has to guess that integer in the minimum number of guesses\n",
    "\n",
    "Model 1. - Unlimited Guesses\n",
    "\n",
    "Model 2. - Limited Guesses"
   ]
  },
  {
   "cell_type": "code",
   "execution_count": 29,
   "metadata": {},
   "outputs": [
    {
     "name": "stdin",
     "output_type": "stream",
     "text": [
      "Lower Range =   1\n",
      "Upper Range =  10\n"
     ]
    },
    {
     "name": "stdout",
     "output_type": "stream",
     "text": [
      "9\n"
     ]
    },
    {
     "name": "stdin",
     "output_type": "stream",
     "text": [
      "Guess:  9\n"
     ]
    },
    {
     "name": "stdout",
     "output_type": "stream",
     "text": [
      "correct answer\n"
     ]
    }
   ],
   "source": [
    "#Model 1\n",
    " \n",
    "import random    \n",
    "    \n",
    "#Build the range with input\n",
    "\n",
    "lower = int(input('Lower Range =  '))\n",
    "high = int(input('Upper Range = '))\n",
    "\n",
    "#Computer Generates Number \n",
    "number = random.randint(lower,high)\n",
    "print(number)        \n",
    "\n",
    "\n",
    "#Guessing Game\n",
    "\n",
    "while True:\n",
    "    guess = int(input('Guess: '))\n",
    "    if guess == number:\n",
    "        print('correct answer')\n",
    "        break\n",
    "    else:\n",
    "        print('Try Again')\n",
    "        continue\n",
    "\n",
    "\n",
    "    "
   ]
  },
  {
   "cell_type": "code",
   "execution_count": 49,
   "metadata": {},
   "outputs": [
    {
     "name": "stdin",
     "output_type": "stream",
     "text": [
      "Lower Range =   1\n",
      "Upper Range =  10\n",
      "Guess  7\n"
     ]
    },
    {
     "name": "stdout",
     "output_type": "stream",
     "text": [
      "Correct Answer\n"
     ]
    }
   ],
   "source": [
    "#model 2: Limited Guesses\n",
    "\n",
    "\n",
    "# (4 Guesses)\n",
    "lower = int(input('Lower Range =  '))\n",
    "high = int(input('Upper Range = '))\n",
    "\n",
    "#Computer Generates Number \n",
    "number = random.randint(lower,high)\n",
    "\n",
    "binw = []\n",
    "#Guessing Game\n",
    "def guess(input1):\n",
    "    binw.append(input1)\n",
    "input1 = int(input('Guess '))\n",
    "guess(input1)\n",
    "\n",
    "donem = 'Correct Answer'\n",
    "errorm = 'Try Again'\n",
    "\n",
    "\n",
    "for i in range(2):\n",
    "    if binw[0] == number:\n",
    "        print(donem)\n",
    "        break\n",
    "    else:\n",
    "        #queue data structure\n",
    "        print(errorm)\n",
    "        binw.pop(0)\n",
    "        input2 = int(input('Guess '))\n",
    "        g2 = guess(input2)\n",
    "        binw.append(g2)\n",
    "\n"
   ]
  }
 ],
 "metadata": {
  "kernelspec": {
   "display_name": "Python 3",
   "language": "python",
   "name": "python3"
  },
  "language_info": {
   "codemirror_mode": {
    "name": "ipython",
    "version": 3
   },
   "file_extension": ".py",
   "mimetype": "text/x-python",
   "name": "python",
   "nbconvert_exporter": "python",
   "pygments_lexer": "ipython3",
   "version": "3.8.3"
  }
 },
 "nbformat": 4,
 "nbformat_minor": 4
}
